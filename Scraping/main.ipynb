{
 "cells": [
  {
   "cell_type": "code",
   "execution_count": 1,
   "metadata": {},
   "outputs": [],
   "source": [
    "from new_service import get_news\n",
    "from new_service import get_information\n",
    "import pandas as pd"
   ]
  },
  {
   "cell_type": "markdown",
   "metadata": {},
   "source": [
    "# Acceder a las noticias\n",
    "Se obtiene los titulos, links y fechas de las noticias desde **GDELT**"
   ]
  },
  {
   "cell_type": "code",
   "execution_count": 2,
   "metadata": {},
   "outputs": [],
   "source": [
    "domains = ['eltiempo.com','vanguardia.com', 'elespectador.com']\n",
    "start_date = \"2024-01-01\"\n",
    "end_date = \"2024-02-01\"\n",
    "country = 'Colombia'\n",
    "\n",
    "articles = pd.DataFrame()\n",
    "for domain in domains:\n",
    "    articles_by_domain = get_news(domain, country, start_date, end_date)\n",
    "    articles = pd.concat([articles,articles_by_domain])\n",
    "articles = articles.reset_index(drop=True)"
   ]
  },
  {
   "cell_type": "markdown",
   "metadata": {},
   "source": [
    "# Procesar cada noticia"
   ]
  },
  {
   "cell_type": "code",
   "execution_count": 6,
   "metadata": {},
   "outputs": [],
   "source": [
    "for index, row in articles.iterrows():\n",
    "    url = row['url']\n",
    "    domain = row['domain']\n",
    "    content, coments, tags = get_information(url, domain)\n",
    "    if content is not None:\n",
    "        print(coments)\n",
    "        print('.-------------------------.')\n",
    "    break\n",
    "    "
   ]
  },
  {
   "cell_type": "code",
   "execution_count": null,
   "metadata": {},
   "outputs": [],
   "source": []
  }
 ],
 "metadata": {
  "kernelspec": {
   "display_name": "base",
   "language": "python",
   "name": "python3"
  },
  "language_info": {
   "codemirror_mode": {
    "name": "ipython",
    "version": 3
   },
   "file_extension": ".py",
   "mimetype": "text/x-python",
   "name": "python",
   "nbconvert_exporter": "python",
   "pygments_lexer": "ipython3",
   "version": "3.9.7"
  }
 },
 "nbformat": 4,
 "nbformat_minor": 2
}
