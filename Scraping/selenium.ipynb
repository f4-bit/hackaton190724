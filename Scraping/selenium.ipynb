{
 "cells": [
  {
   "cell_type": "code",
   "execution_count": 40,
   "metadata": {},
   "outputs": [
    {
     "name": "stdout",
     "output_type": "stream",
     "text": [
      "00000000-0000-4000-8000-023a87392790\n",
      "00000000-0000-4000-8000-06aaa01664d6\n",
      "00000000-0000-4000-8000-07cc1494f453\n",
      "00000000-0000-4000-8000-055ee363bb60\n",
      "00000000-0000-4000-8000-00f66798e8b4\n",
      "00000000-0000-4000-8000-023a2dd0f905\n",
      "00000000-0000-4000-8000-06f24a65a8d2\n"
     ]
    }
   ],
   "source": [
    "import requests\n",
    "import json\n",
    "\n",
    "# URL de la API\n",
    "url = \"https://api.viafoura.co/v2/?session=false&json=%7B%22requests%22:%7B%2200000000-0000-4000-8000-023a87392790%22:%7B%22route%22:%22%2Fusers%2F2450400028560%22,%22verb%22:%22get%22%7D,%2200000000-0000-4000-8000-06aaa01664d6%22:%7B%22route%22:%22%2Fusers%2F7329900029142%22,%22verb%22:%22get%22%7D,%2200000000-0000-4000-8000-07cc1494f453%22:%7B%22route%22:%22%2Fusers%2F8573100029011%22,%22verb%22:%22get%22%7D,%2200000000-0000-4000-8000-055ee363bb60%22:%7B%22route%22:%22%2Fusers%2F5905100028768%22,%22verb%22:%22get%22%7D,%2200000000-0000-4000-8000-00f66798e8b4%22:%7B%22route%22:%22%2Fusers%2F1058300029108%22,%22verb%22:%22get%22%7D,%2200000000-0000-4000-8000-023a2dd0f905%22:%7B%22route%22:%22%2Fusers%2F2448900028677%22,%22verb%22:%22get%22%7D,%2200000000-0000-4000-8000-06f24a65a8d2%22:%7B%22route%22:%22%2Fusers%2F7637700028626%22,%22verb%22:%22get%22%7D%7D,%22site%22:%22www.eltiempo.com%22%7D\"\n",
    "\n",
    "# Realizar la petición GET\n",
    "response = requests.get(url)\n",
    "\n",
    "# Parsear la respuesta JSON\n",
    "data = response.json()\n",
    "\n",
    "# Mostrar los datos\n",
    "#print(json.dumps(data, indent=2))\n",
    "\n",
    "# Procesar y extraer comentarios si están presentes en los datos\n",
    "for request_id, user_data in data['responses'].items():\n",
    "    print(request_id)"
   ]
  },
  {
   "cell_type": "code",
   "execution_count": 80,
   "metadata": {},
   "outputs": [
    {
     "data": {
      "text/plain": [
       "4"
      ]
     },
     "execution_count": 80,
     "metadata": {},
     "output_type": "execute_result"
    }
   ],
   "source": [
    "import requests\n",
    "import json\n",
    "\n",
    "id = '3363997'\n",
    "# URL de la API\n",
    "url = f'https://livecomments.viafoura.co/v4/livecomments/00000000-0000-4000-8000-9c5d48314ca1?limit=100&container_id={id}&reply_limit=4&sorted_by=newest'\n",
    "\n",
    "# Realizar la petición GET\n",
    "response = requests.get(url)\n",
    "\n",
    "data = response.json()\n",
    "data['contents'][1]['content']"
   ]
  },
  {
   "cell_type": "code",
   "execution_count": 81,
   "metadata": {},
   "outputs": [
    {
     "data": {
      "text/plain": [
       "'Vaya que extraño! Porqué no fue el CTI que hace parte de la Fiscalía a realizar esa diligencia? No confían en ellos?, es mejor la Dijín o más imparcial?, puede el CTI filtrar información y quieren que permanezca oculta a los medios?, qué quieren esconder o mejor, qué no quieren encontrar?. Porqué el presidente no está ofuscado por esa diligencia y sí lo estaba cuando se hacían en vigencia de la anterior Fiscal, la Cabello?. Hay un trato especial por tratarse del DAPRE en cabeza de Sarabia?. Extraño no creen?. '"
      ]
     },
     "execution_count": 81,
     "metadata": {},
     "output_type": "execute_result"
    }
   ],
   "source": [
    "data['contents'][1]['content']"
   ]
  },
  {
   "cell_type": "code",
   "execution_count": 65,
   "metadata": {},
   "outputs": [
    {
     "data": {
      "text/plain": [
       "8"
      ]
     },
     "execution_count": 65,
     "metadata": {},
     "output_type": "execute_result"
    }
   ],
   "source": [
    "len(data['contents'])"
   ]
  },
  {
   "cell_type": "code",
   "execution_count": 69,
   "metadata": {},
   "outputs": [
    {
     "data": {
      "text/plain": [
       "'Not found'"
      ]
     },
     "execution_count": 69,
     "metadata": {},
     "output_type": "execute_result"
    }
   ],
   "source": [
    "data"
   ]
  },
  {
   "cell_type": "code",
   "execution_count": null,
   "metadata": {},
   "outputs": [],
   "source": []
  }
 ],
 "metadata": {
  "kernelspec": {
   "display_name": "base",
   "language": "python",
   "name": "python3"
  },
  "language_info": {
   "codemirror_mode": {
    "name": "ipython",
    "version": 3
   },
   "file_extension": ".py",
   "mimetype": "text/x-python",
   "name": "python",
   "nbconvert_exporter": "python",
   "pygments_lexer": "ipython3",
   "version": "3.9.7"
  }
 },
 "nbformat": 4,
 "nbformat_minor": 2
}
