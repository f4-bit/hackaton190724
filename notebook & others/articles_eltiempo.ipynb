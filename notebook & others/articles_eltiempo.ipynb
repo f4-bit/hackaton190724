{
 "cells": [
  {
   "cell_type": "code",
   "execution_count": 2,
   "metadata": {},
   "outputs": [],
   "source": [
    "import requests\n",
    "from bs4 import BeautifulSoup\n",
    "import pandas as pd\n",
    "from new_service import get_information_eltiempo\n",
    "\n",
    "def obtener_articulos(paginas=100):\n",
    "    \"\"\"\n",
    "    Extrae los nombres de los artículos, URLs y fechas de publicación de las páginas especificadas\n",
    "    de la búsqueda en El Tiempo sobre migrantes venezolanos en Colombia.\n",
    "\n",
    "    :param paginas: Número de páginas a procesar.\n",
    "    :return: DataFrame con las columnas 'Título', 'Fecha de Publicación' y 'URL'.\n",
    "    \"\"\"\n",
    "    # Lista para almacenar los datos\n",
    "    datos = []\n",
    "\n",
    "    # Iterar sobre las páginas\n",
    "    for page in range(paginas):\n",
    "        url = f'https://www.eltiempo.com/buscar/?q=migrantes%20venezolanos%20en%20colombia&sort_field=_score&articleTypes=default,gallery,especial_modular,especial-tipo-d,video_detail,play_video_detail&categories_ids_or=&from=2024-01-20&until=2024-07-20&page={page}'\n",
    "        response = requests.get(url, timeout=10)\n",
    "        response.raise_for_status()  # Lanza un error para códigos de estado HTTP 4xx/5xx\n",
    "\n",
    "        # Parsear el contenido HTML del artículo\n",
    "        soup = BeautifulSoup(response.content, 'html.parser')\n",
    "        articulos = soup.find_all('article', class_='c-article')\n",
    "\n",
    "        # Extraer los nombres, URLs y fechas de publicación de los artículos\n",
    "        for articulo in articulos:\n",
    "            # Encontrar el título del artículo\n",
    "            titulo = articulo.find('h3', class_='c-article__title').get_text(strip=True)\n",
    "            # Encontrar la URL del artículo\n",
    "            url = articulo.find('a', class_='page-link')['href']\n",
    "            url = 'https://www.eltiempo.com/' + url\n",
    "            # Encontrar la fecha de publicación\n",
    "            fecha_publicacion = articulo.find('time', class_='c-article__date').get_text(strip=True)\n",
    "            \n",
    "            # Añadir los datos a la lista\n",
    "            datos.append({\n",
    "                'title': titulo,\n",
    "                'date': fecha_publicacion,\n",
    "                'url': url\n",
    "            })\n",
    "\n",
    "    # Crear un DataFrame con los datos\n",
    "    df = pd.DataFrame(datos)\n",
    "    return df"
   ]
  },
  {
   "cell_type": "code",
   "execution_count": 3,
   "metadata": {},
   "outputs": [],
   "source": [
    "articles = obtener_articulos(paginas=100)"
   ]
  },
  {
   "cell_type": "code",
   "execution_count": 1,
   "metadata": {},
   "outputs": [
    {
     "ename": "NameError",
     "evalue": "name 'articles' is not defined",
     "output_type": "error",
     "traceback": [
      "\u001b[1;31m---------------------------------------------------------------------------\u001b[0m",
      "\u001b[1;31mNameError\u001b[0m                                 Traceback (most recent call last)",
      "Cell \u001b[1;32mIn[1], line 1\u001b[0m\n\u001b[1;32m----> 1\u001b[0m \u001b[43marticles\u001b[49m\n",
      "\u001b[1;31mNameError\u001b[0m: name 'articles' is not defined"
     ]
    }
   ],
   "source": [
    "articles"
   ]
  },
  {
   "cell_type": "code",
   "execution_count": null,
   "metadata": {},
   "outputs": [],
   "source": [
    "articles['content'] = None\n",
    "articles['#coments'] = None\n",
    "articles['coments'] = None\n",
    "articles['tags'] = None\n",
    "for index, row in articles.iterrows():\n",
    "    content, coments, tags = get_information_eltiempo(row['url'])\n",
    "    # Agregar el contenido del articulo\n",
    "    articles.loc[index, 'content'] = content\n",
    "    if coments is not None:\n",
    "        articles.loc[index, '#coments'] = len(coments)\n",
    "        articles.loc[index, 'coments'] = coments\n",
    "    if tags is not None:\n",
    "        articles.loc[index, 'tags'] = tags"
   ]
  },
  {
   "cell_type": "code",
   "execution_count": 9,
   "metadata": {},
   "outputs": [],
   "source": [
    "articles.to_excel('articulos_eltiempo.xlsx',index=False)"
   ]
  },
  {
   "cell_type": "code",
   "execution_count": null,
   "metadata": {},
   "outputs": [],
   "source": []
  }
 ],
 "metadata": {
  "kernelspec": {
   "display_name": "base",
   "language": "python",
   "name": "python3"
  },
  "language_info": {
   "codemirror_mode": {
    "name": "ipython",
    "version": 3
   },
   "file_extension": ".py",
   "mimetype": "text/x-python",
   "name": "python",
   "nbconvert_exporter": "python",
   "pygments_lexer": "ipython3",
   "version": "3.11.3"
  }
 },
 "nbformat": 4,
 "nbformat_minor": 2
}
