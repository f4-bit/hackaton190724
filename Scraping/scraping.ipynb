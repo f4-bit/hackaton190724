{
 "cells": [
  {
   "cell_type": "code",
   "execution_count": 1,
   "metadata": {},
   "outputs": [],
   "source": [
    "from gdeltdoc import GdeltDoc, Filters\n",
    "import requests\n",
    "from bs4 import BeautifulSoup\n",
    "import re\n",
    "from service import extract_article_content\n",
    "from service import obtener_comentarios"
   ]
  },
  {
   "cell_type": "code",
   "execution_count": 2,
   "metadata": {},
   "outputs": [],
   "source": [
    "f = Filters(\n",
    "    keyword =  [\"Venezuela\", \"Venezolano\", \"migración venezolana\", \n",
    "        \"crisis migratoria\", \n",
    "        \"impacto económico migración\", \n",
    "        \"refugiados venezolanos\", \n",
    "        \"integración migrantes venezolanos\" ],\n",
    "    start_date = \"2024-07-01\",\n",
    "    end_date = \"2024-07-20\",\n",
    "    country = \"Colombia\",\n",
    "    domain_exact=\"eltiempo.com\")\n",
    "\n",
    "gd = GdeltDoc()\n",
    "\n",
    "# Search for articles matching the filters\n",
    "articles = gd.article_search(f)"
   ]
  },
  {
   "cell_type": "code",
   "execution_count": 3,
   "metadata": {},
   "outputs": [
    {
     "name": "stdout",
     "output_type": "stream",
     "text": [
      "Error en la solicitud: 404 Client Error: Not Found for url: https://livecomments.viafoura.co/v4/livecomments/00000000-0000-4000-8000-9c5d48314ca1?limit=100&container_id=3359060&reply_limit=4&sorted_by=newest\n"
     ]
    }
   ],
   "source": [
    "# Organizar articulos\n",
    "articles = articles[['url', 'title', 'seendate', 'domain']]\n",
    "articles['content'] = None\n",
    "articles['#coments'] = None\n",
    "articles['coments'] = None\n",
    "articles['tags'] = None\n",
    "# Agregar el contenido\n",
    "for index, row in articles.iterrows():\n",
    "    url = row['url']\n",
    "    content, coments, tags = extract_article_content(url)    \n",
    "    # Agregar el contenido del articulo\n",
    "    articles.loc[index, 'content'] = content\n",
    "    if coments is not None:\n",
    "        articles.loc[index, '#coments'] = len(coments)\n",
    "        articles.loc[index, 'coments'] = coments\n",
    "    if tags is not None:\n",
    "        articles.loc[index, 'tags'] = tags"
   ]
  }
 ],
 "metadata": {
  "kernelspec": {
   "display_name": "base",
   "language": "python",
   "name": "python3"
  },
  "language_info": {
   "codemirror_mode": {
    "name": "ipython",
    "version": 3
   },
   "file_extension": ".py",
   "mimetype": "text/x-python",
   "name": "python",
   "nbconvert_exporter": "python",
   "pygments_lexer": "ipython3",
   "version": "3.9.7"
  }
 },
 "nbformat": 4,
 "nbformat_minor": 2
}
